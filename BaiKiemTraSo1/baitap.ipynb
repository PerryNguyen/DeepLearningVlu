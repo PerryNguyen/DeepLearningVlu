{
 "cells": [
  {
   "cell_type": "code",
   "execution_count": 47,
   "metadata": {},
   "outputs": [],
   "source": [
    "import pandas as pd\n",
    "import numpy as np\n",
    "import matplotlib.pyplot as plt"
   ]
  },
  {
   "cell_type": "markdown",
   "metadata": {},
   "source": [
    "Cau 1"
   ]
  },
  {
   "cell_type": "code",
   "execution_count": 56,
   "metadata": {},
   "outputs": [],
   "source": [
    "df = pd.read_csv(\"data.csv\")"
   ]
  },
  {
   "cell_type": "markdown",
   "metadata": {},
   "source": [
    "Cau 2"
   ]
  },
  {
   "cell_type": "code",
   "execution_count": 57,
   "metadata": {},
   "outputs": [
    {
     "data": {
      "text/html": [
       "<div>\n",
       "<style scoped>\n",
       "    .dataframe tbody tr th:only-of-type {\n",
       "        vertical-align: middle;\n",
       "    }\n",
       "\n",
       "    .dataframe tbody tr th {\n",
       "        vertical-align: top;\n",
       "    }\n",
       "\n",
       "    .dataframe thead th {\n",
       "        text-align: right;\n",
       "    }\n",
       "</style>\n",
       "<table border=\"1\" class=\"dataframe\">\n",
       "  <thead>\n",
       "    <tr style=\"text-align: right;\">\n",
       "      <th></th>\n",
       "      <th>Name</th>\n",
       "      <th>Age</th>\n",
       "      <th>Salary</th>\n",
       "    </tr>\n",
       "  </thead>\n",
       "  <tbody>\n",
       "    <tr>\n",
       "      <th>0</th>\n",
       "      <td>Alice</td>\n",
       "      <td>25</td>\n",
       "      <td>50000</td>\n",
       "    </tr>\n",
       "    <tr>\n",
       "      <th>1</th>\n",
       "      <td>Bob</td>\n",
       "      <td>30</td>\n",
       "      <td>60000</td>\n",
       "    </tr>\n",
       "    <tr>\n",
       "      <th>2</th>\n",
       "      <td>Charlie</td>\n",
       "      <td>35</td>\n",
       "      <td>70000</td>\n",
       "    </tr>\n",
       "    <tr>\n",
       "      <th>3</th>\n",
       "      <td>David</td>\n",
       "      <td>28</td>\n",
       "      <td>55000</td>\n",
       "    </tr>\n",
       "    <tr>\n",
       "      <th>4</th>\n",
       "      <td>Eva</td>\n",
       "      <td>22</td>\n",
       "      <td>52000</td>\n",
       "    </tr>\n",
       "    <tr>\n",
       "      <th>5</th>\n",
       "      <td>Frank</td>\n",
       "      <td>45</td>\n",
       "      <td>80000</td>\n",
       "    </tr>\n",
       "    <tr>\n",
       "      <th>6</th>\n",
       "      <td>Grace</td>\n",
       "      <td>34</td>\n",
       "      <td>72000</td>\n",
       "    </tr>\n",
       "    <tr>\n",
       "      <th>7</th>\n",
       "      <td>Hannah</td>\n",
       "      <td>31</td>\n",
       "      <td>68000</td>\n",
       "    </tr>\n",
       "    <tr>\n",
       "      <th>8</th>\n",
       "      <td>Ivan</td>\n",
       "      <td>27</td>\n",
       "      <td>61000</td>\n",
       "    </tr>\n",
       "    <tr>\n",
       "      <th>9</th>\n",
       "      <td>Jack</td>\n",
       "      <td>29</td>\n",
       "      <td>69000</td>\n",
       "    </tr>\n",
       "    <tr>\n",
       "      <th>10</th>\n",
       "      <td>Kelly</td>\n",
       "      <td>33</td>\n",
       "      <td>63000</td>\n",
       "    </tr>\n",
       "    <tr>\n",
       "      <th>11</th>\n",
       "      <td>Liam</td>\n",
       "      <td>40</td>\n",
       "      <td>77000</td>\n",
       "    </tr>\n",
       "    <tr>\n",
       "      <th>12</th>\n",
       "      <td>Mona</td>\n",
       "      <td>26</td>\n",
       "      <td>53000</td>\n",
       "    </tr>\n",
       "    <tr>\n",
       "      <th>13</th>\n",
       "      <td>Nina</td>\n",
       "      <td>32</td>\n",
       "      <td>66000</td>\n",
       "    </tr>\n",
       "    <tr>\n",
       "      <th>14</th>\n",
       "      <td>Oscar</td>\n",
       "      <td>36</td>\n",
       "      <td>75000</td>\n",
       "    </tr>\n",
       "  </tbody>\n",
       "</table>\n",
       "</div>"
      ],
      "text/plain": [
       "       Name  Age  Salary\n",
       "0     Alice   25   50000\n",
       "1       Bob   30   60000\n",
       "2   Charlie   35   70000\n",
       "3     David   28   55000\n",
       "4       Eva   22   52000\n",
       "5     Frank   45   80000\n",
       "6     Grace   34   72000\n",
       "7    Hannah   31   68000\n",
       "8      Ivan   27   61000\n",
       "9      Jack   29   69000\n",
       "10    Kelly   33   63000\n",
       "11     Liam   40   77000\n",
       "12     Mona   26   53000\n",
       "13     Nina   32   66000\n",
       "14    Oscar   36   75000"
      ]
     },
     "execution_count": 57,
     "metadata": {},
     "output_type": "execute_result"
    }
   ],
   "source": [
    "df.head(16)"
   ]
  },
  {
   "cell_type": "markdown",
   "metadata": {},
   "source": [
    "Cau 3"
   ]
  },
  {
   "cell_type": "code",
   "execution_count": 58,
   "metadata": {},
   "outputs": [
    {
     "data": {
      "text/html": [
       "<div>\n",
       "<style scoped>\n",
       "    .dataframe tbody tr th:only-of-type {\n",
       "        vertical-align: middle;\n",
       "    }\n",
       "\n",
       "    .dataframe tbody tr th {\n",
       "        vertical-align: top;\n",
       "    }\n",
       "\n",
       "    .dataframe thead th {\n",
       "        text-align: right;\n",
       "    }\n",
       "</style>\n",
       "<table border=\"1\" class=\"dataframe\">\n",
       "  <thead>\n",
       "    <tr style=\"text-align: right;\">\n",
       "      <th></th>\n",
       "      <th>Name</th>\n",
       "      <th>Age</th>\n",
       "      <th>Salary</th>\n",
       "    </tr>\n",
       "  </thead>\n",
       "  <tbody>\n",
       "    <tr>\n",
       "      <th>1</th>\n",
       "      <td>Bob</td>\n",
       "      <td>30</td>\n",
       "      <td>60000</td>\n",
       "    </tr>\n",
       "    <tr>\n",
       "      <th>2</th>\n",
       "      <td>Charlie</td>\n",
       "      <td>35</td>\n",
       "      <td>70000</td>\n",
       "    </tr>\n",
       "    <tr>\n",
       "      <th>5</th>\n",
       "      <td>Frank</td>\n",
       "      <td>45</td>\n",
       "      <td>80000</td>\n",
       "    </tr>\n",
       "    <tr>\n",
       "      <th>6</th>\n",
       "      <td>Grace</td>\n",
       "      <td>34</td>\n",
       "      <td>72000</td>\n",
       "    </tr>\n",
       "    <tr>\n",
       "      <th>7</th>\n",
       "      <td>Hannah</td>\n",
       "      <td>31</td>\n",
       "      <td>68000</td>\n",
       "    </tr>\n",
       "    <tr>\n",
       "      <th>9</th>\n",
       "      <td>Jack</td>\n",
       "      <td>29</td>\n",
       "      <td>69000</td>\n",
       "    </tr>\n",
       "    <tr>\n",
       "      <th>10</th>\n",
       "      <td>Kelly</td>\n",
       "      <td>33</td>\n",
       "      <td>63000</td>\n",
       "    </tr>\n",
       "    <tr>\n",
       "      <th>11</th>\n",
       "      <td>Liam</td>\n",
       "      <td>40</td>\n",
       "      <td>77000</td>\n",
       "    </tr>\n",
       "    <tr>\n",
       "      <th>13</th>\n",
       "      <td>Nina</td>\n",
       "      <td>32</td>\n",
       "      <td>66000</td>\n",
       "    </tr>\n",
       "    <tr>\n",
       "      <th>14</th>\n",
       "      <td>Oscar</td>\n",
       "      <td>36</td>\n",
       "      <td>75000</td>\n",
       "    </tr>\n",
       "  </tbody>\n",
       "</table>\n",
       "</div>"
      ],
      "text/plain": [
       "       Name  Age  Salary\n",
       "1       Bob   30   60000\n",
       "2   Charlie   35   70000\n",
       "5     Frank   45   80000\n",
       "6     Grace   34   72000\n",
       "7    Hannah   31   68000\n",
       "9      Jack   29   69000\n",
       "10    Kelly   33   63000\n",
       "11     Liam   40   77000\n",
       "13     Nina   32   66000\n",
       "14    Oscar   36   75000"
      ]
     },
     "execution_count": 58,
     "metadata": {},
     "output_type": "execute_result"
    }
   ],
   "source": [
    "df.loc[(df['Age']>28)]"
   ]
  },
  {
   "cell_type": "markdown",
   "metadata": {},
   "source": [
    "Cau 4"
   ]
  },
  {
   "cell_type": "code",
   "execution_count": 59,
   "metadata": {},
   "outputs": [
    {
     "name": "stdout",
     "output_type": "stream",
     "text": [
      "Giá trị trung bình của cột 'Salary' là: 64733.333333333336\n"
     ]
    }
   ],
   "source": [
    "average_value = df['Salary'].mean()\n",
    "\n",
    "print(\"Giá trị trung bình của cột 'Salary' là:\", average_value)"
   ]
  },
  {
   "cell_type": "markdown",
   "metadata": {},
   "source": [
    "Cau 5"
   ]
  },
  {
   "cell_type": "code",
   "execution_count": 60,
   "metadata": {},
   "outputs": [
    {
     "name": "stdout",
     "output_type": "stream",
     "text": [
      "Sum Aga va Salary\n",
      "Age\n",
      "22    52000\n",
      "25    50000\n",
      "26    53000\n",
      "27    61000\n",
      "28    55000\n",
      "29    69000\n",
      "30    60000\n",
      "31    68000\n",
      "32    66000\n",
      "33    63000\n",
      "34    72000\n",
      "35    70000\n",
      "36    75000\n",
      "40    77000\n",
      "45    80000\n",
      "Name: Salary, dtype: int64\n"
     ]
    }
   ],
   "source": [
    "grouped_sum = df.groupby('Age')['Salary'].sum()\n",
    "\n",
    "print(\"Sum Aga va Salary\")\n",
    "print(grouped_sum)"
   ]
  },
  {
   "cell_type": "markdown",
   "metadata": {},
   "source": [
    "Cau 6"
   ]
  },
  {
   "cell_type": "code",
   "execution_count": 61,
   "metadata": {},
   "outputs": [
    {
     "data": {
      "text/html": [
       "<div>\n",
       "<style scoped>\n",
       "    .dataframe tbody tr th:only-of-type {\n",
       "        vertical-align: middle;\n",
       "    }\n",
       "\n",
       "    .dataframe tbody tr th {\n",
       "        vertical-align: top;\n",
       "    }\n",
       "\n",
       "    .dataframe thead th {\n",
       "        text-align: right;\n",
       "    }\n",
       "</style>\n",
       "<table border=\"1\" class=\"dataframe\">\n",
       "  <thead>\n",
       "    <tr style=\"text-align: right;\">\n",
       "      <th></th>\n",
       "      <th>Name</th>\n",
       "      <th>Age</th>\n",
       "      <th>Salary</th>\n",
       "    </tr>\n",
       "  </thead>\n",
       "  <tbody>\n",
       "    <tr>\n",
       "      <th>5</th>\n",
       "      <td>Frank</td>\n",
       "      <td>45</td>\n",
       "      <td>80000</td>\n",
       "    </tr>\n",
       "    <tr>\n",
       "      <th>11</th>\n",
       "      <td>Liam</td>\n",
       "      <td>40</td>\n",
       "      <td>77000</td>\n",
       "    </tr>\n",
       "    <tr>\n",
       "      <th>14</th>\n",
       "      <td>Oscar</td>\n",
       "      <td>36</td>\n",
       "      <td>75000</td>\n",
       "    </tr>\n",
       "    <tr>\n",
       "      <th>6</th>\n",
       "      <td>Grace</td>\n",
       "      <td>34</td>\n",
       "      <td>72000</td>\n",
       "    </tr>\n",
       "    <tr>\n",
       "      <th>2</th>\n",
       "      <td>Charlie</td>\n",
       "      <td>35</td>\n",
       "      <td>70000</td>\n",
       "    </tr>\n",
       "    <tr>\n",
       "      <th>9</th>\n",
       "      <td>Jack</td>\n",
       "      <td>29</td>\n",
       "      <td>69000</td>\n",
       "    </tr>\n",
       "    <tr>\n",
       "      <th>7</th>\n",
       "      <td>Hannah</td>\n",
       "      <td>31</td>\n",
       "      <td>68000</td>\n",
       "    </tr>\n",
       "    <tr>\n",
       "      <th>13</th>\n",
       "      <td>Nina</td>\n",
       "      <td>32</td>\n",
       "      <td>66000</td>\n",
       "    </tr>\n",
       "    <tr>\n",
       "      <th>10</th>\n",
       "      <td>Kelly</td>\n",
       "      <td>33</td>\n",
       "      <td>63000</td>\n",
       "    </tr>\n",
       "    <tr>\n",
       "      <th>8</th>\n",
       "      <td>Ivan</td>\n",
       "      <td>27</td>\n",
       "      <td>61000</td>\n",
       "    </tr>\n",
       "    <tr>\n",
       "      <th>1</th>\n",
       "      <td>Bob</td>\n",
       "      <td>30</td>\n",
       "      <td>60000</td>\n",
       "    </tr>\n",
       "    <tr>\n",
       "      <th>3</th>\n",
       "      <td>David</td>\n",
       "      <td>28</td>\n",
       "      <td>55000</td>\n",
       "    </tr>\n",
       "    <tr>\n",
       "      <th>12</th>\n",
       "      <td>Mona</td>\n",
       "      <td>26</td>\n",
       "      <td>53000</td>\n",
       "    </tr>\n",
       "    <tr>\n",
       "      <th>4</th>\n",
       "      <td>Eva</td>\n",
       "      <td>22</td>\n",
       "      <td>52000</td>\n",
       "    </tr>\n",
       "    <tr>\n",
       "      <th>0</th>\n",
       "      <td>Alice</td>\n",
       "      <td>25</td>\n",
       "      <td>50000</td>\n",
       "    </tr>\n",
       "  </tbody>\n",
       "</table>\n",
       "</div>"
      ],
      "text/plain": [
       "       Name  Age  Salary\n",
       "5     Frank   45   80000\n",
       "11     Liam   40   77000\n",
       "14    Oscar   36   75000\n",
       "6     Grace   34   72000\n",
       "2   Charlie   35   70000\n",
       "9      Jack   29   69000\n",
       "7    Hannah   31   68000\n",
       "13     Nina   32   66000\n",
       "10    Kelly   33   63000\n",
       "8      Ivan   27   61000\n",
       "1       Bob   30   60000\n",
       "3     David   28   55000\n",
       "12     Mona   26   53000\n",
       "4       Eva   22   52000\n",
       "0     Alice   25   50000"
      ]
     },
     "execution_count": 61,
     "metadata": {},
     "output_type": "execute_result"
    }
   ],
   "source": [
    "df.sort_values('Salary', ascending=False)"
   ]
  },
  {
   "cell_type": "markdown",
   "metadata": {},
   "source": [
    "Cau 7"
   ]
  },
  {
   "cell_type": "code",
   "execution_count": 62,
   "metadata": {},
   "outputs": [
    {
     "data": {
      "text/plain": [
       "<Axes: >"
      ]
     },
     "execution_count": 62,
     "metadata": {},
     "output_type": "execute_result"
    },
    {
     "data": {
      "image/png": "[encoded data removed]",
      "text/plain": [
       "<Figure size 640x480 with 1 Axes>"
      ]
     },
     "metadata": {},
     "output_type": "display_data"
    }
   ],
   "source": [
    "df['Age'].plot.bar()"
   ]
  },
  {
   "cell_type": "markdown",
   "metadata": {},
   "source": [
    "Cau 8"
   ]
  },
  {
   "cell_type": "code",
   "execution_count": 63,
   "metadata": {},
   "outputs": [
    {
     "data": {
      "text/plain": [
       "<Axes: >"
      ]
     },
     "execution_count": 63,
     "metadata": {},
     "output_type": "execute_result"
    },
    {
     "data": {
      "image/png": "[encoded data removed]",
      "text/plain": [
       "<Figure size 640x480 with 1 Axes>"
      ]
     },
     "metadata": {},
     "output_type": "display_data"
    }
   ],
   "source": [
    "df['Salary'].plot.line()"
   ]
  },
  {
   "cell_type": "markdown",
   "metadata": {},
   "source": [
    "Cau 9"
   ]
  },
  {
   "cell_type": "code",
   "execution_count": 64,
   "metadata": {},
   "outputs": [
    {
     "data": {
      "text/plain": [
       "<Axes: ylabel='Age'>"
      ]
     },
     "execution_count": 64,
     "metadata": {},
     "output_type": "execute_result"
    },
    {
     "data": {
      "image/png": "[encoded data removed]",
      "text/plain": [
       "<Figure size 640x480 with 1 Axes>"
      ]
     },
     "metadata": {},
     "output_type": "display_data"
    }
   ],
   "source": [
    "df['Age'].plot.pie()"
   ]
  },
  {
   "cell_type": "markdown",
   "metadata": {},
   "source": [
    "Cau 10"
   ]
  },
  {
   "cell_type": "code",
   "execution_count": 65,
   "metadata": {},
   "outputs": [
    {
     "data": {
      "text/plain": [
       "<matplotlib.collections.PathCollection at 0x21a4e15d990>"
      ]
     },
     "execution_count": 65,
     "metadata": {},
     "output_type": "execute_result"
    },
    {
     "data": {
      "image/png": "[encoded data removed]",
      "text/plain": [
       "<Figure size 800x500 with 1 Axes>"
      ]
     },
     "metadata": {},
     "output_type": "display_data"
    }
   ],
   "source": [
    "plt.figure(figsize=(8, 5)) \n",
    "plt.scatter(df['Age'], df['Salary'], color='blue', marker='o', alpha=0.7)"
   ]
  },
  {
   "cell_type": "markdown",
   "metadata": {},
   "source": [
    "Cau 11"
   ]
  },
  {
   "cell_type": "code",
   "execution_count": 67,
   "metadata": {},
   "outputs": [
    {
     "name": "stdout",
     "output_type": "stream",
     "text": [
      "DataFrame Khong chua gia tri Nah\n"
     ]
    }
   ],
   "source": [
    "nah_value = df.isna().any().any()\n",
    "\n",
    "if nah_value:\n",
    "    print(\"DataFrame co chua gia tri Nah\")\n",
    "else:\n",
    "    print(\"DataFrame Khong chua gia tri Nah\")"
   ]
  },
  {
   "cell_type": "markdown",
   "metadata": {},
   "source": [
    "Cau 12"
   ]
  },
  {
   "cell_type": "code",
   "execution_count": 68,
   "metadata": {},
   "outputs": [
    {
     "name": "stdout",
     "output_type": "stream",
     "text": [
      "       Name        Age  Salary\n",
      "0     Alice  25.000000   50000\n",
      "1       Bob  30.000000   60000\n",
      "2   Charlie  31.533333   70000\n",
      "3     David  28.000000   55000\n",
      "4       Eva  22.000000   52000\n",
      "5     Frank  31.533333   80000\n",
      "6     Grace  31.533333   72000\n",
      "7    Hannah  31.533333   68000\n",
      "8      Ivan  27.000000   61000\n",
      "9      Jack  29.000000   69000\n",
      "10    Kelly  31.533333   63000\n",
      "11     Liam  31.533333   77000\n",
      "12     Mona  26.000000   53000\n",
      "13     Nina  31.533333   66000\n",
      "14    Oscar  31.533333   75000\n"
     ]
    },
    {
     "name": "stderr",
     "output_type": "stream",
     "text": [
      "C:\\Users\\duyng\\AppData\\Local\\Temp\\ipykernel_15140\\2285482575.py:2: FutureWarning: Setting an item of incompatible dtype is deprecated and will raise an error in a future version of pandas. Value '31.533333333333335' has dtype incompatible with int64, please explicitly cast to a compatible dtype first.\n",
      "  df.loc[df['Age'] > 30, 'Age'] = average_age\n"
     ]
    }
   ],
   "source": [
    "average_age = df['Age'].mean()\n",
    "df.loc[df['Age'] > 30, 'Age'] = average_age\n",
    "print(df)"
   ]
  },
  {
   "cell_type": "markdown",
   "metadata": {},
   "source": [
    "Cau 13"
   ]
  },
  {
   "cell_type": "code",
   "execution_count": 69,
   "metadata": {},
   "outputs": [
    {
     "name": "stdout",
     "output_type": "stream",
     "text": [
      "       Name        Age  Salary  Age_normalized\n",
      "0     Alice  25.000000   50000        0.314685\n",
      "1       Bob  30.000000   60000        0.839161\n",
      "2   Charlie  31.533333   70000        1.000000\n",
      "3     David  28.000000   55000        0.629371\n",
      "4       Eva  22.000000   52000        0.000000\n",
      "5     Frank  31.533333   80000        1.000000\n",
      "6     Grace  31.533333   72000        1.000000\n",
      "7    Hannah  31.533333   68000        1.000000\n",
      "8      Ivan  27.000000   61000        0.524476\n",
      "9      Jack  29.000000   69000        0.734266\n",
      "10    Kelly  31.533333   63000        1.000000\n",
      "11     Liam  31.533333   77000        1.000000\n",
      "12     Mona  26.000000   53000        0.419580\n",
      "13     Nina  31.533333   66000        1.000000\n",
      "14    Oscar  31.533333   75000        1.000000\n"
     ]
    }
   ],
   "source": [
    "df['Age_normalized'] = (df['Age'] - df['Age'].min()) / (df['Age'].max() - df['Age'].min())\n",
    "print(df)"
   ]
  },
  {
   "cell_type": "markdown",
   "metadata": {},
   "source": [
    "Cau 14"
   ]
  },
  {
   "cell_type": "code",
   "execution_count": 76,
   "metadata": {},
   "outputs": [
    {
     "name": "stdout",
     "output_type": "stream",
     "text": [
      "       Name        Age    Age_group\n",
      "0     Alice  25.000000        Young\n",
      "1       Bob  30.000000  Middle-aged\n",
      "2   Charlie  31.533333  Middle-aged\n",
      "3     David  28.000000        Young\n",
      "4       Eva  22.000000        Young\n",
      "5     Frank  31.533333  Middle-aged\n",
      "6     Grace  31.533333  Middle-aged\n",
      "7    Hannah  31.533333  Middle-aged\n",
      "8      Ivan  27.000000        Young\n",
      "9      Jack  29.000000        Young\n",
      "10    Kelly  31.533333  Middle-aged\n",
      "11     Liam  31.533333  Middle-aged\n",
      "12     Mona  26.000000        Young\n",
      "13     Nina  31.533333  Middle-aged\n",
      "14    Oscar  31.533333  Middle-aged\n"
     ]
    }
   ],
   "source": [
    "bins = [0, 30, 60, float('inf')]\n",
    "labels = ['Young', 'Middle-aged', 'Old'] \n",
    "\n",
    "df['Age_group'] = pd.cut(df['Age'], bins=bins, labels=labels, right=False)\n",
    "print(df[['Name', 'Age', 'Age_group']])"
   ]
  },
  {
   "cell_type": "markdown",
   "metadata": {},
   "source": [
    "Cau 15"
   ]
  },
  {
   "cell_type": "code",
   "execution_count": 77,
   "metadata": {},
   "outputs": [
    {
     "name": "stdout",
     "output_type": "stream",
     "text": [
      "       Name        Age  Salary  Age_normalized    Age_group  \\\n",
      "0     Alice  25.000000   50000        0.314685        Young   \n",
      "1       Bob  30.000000   60000        0.839161  Middle-aged   \n",
      "2   Charlie  31.533333   70000        1.000000  Middle-aged   \n",
      "3     David  28.000000   55000        0.629371        Young   \n",
      "4       Eva  22.000000   52000        0.000000        Young   \n",
      "5     Frank  31.533333   80000        1.000000  Middle-aged   \n",
      "6     Grace  31.533333   72000        1.000000  Middle-aged   \n",
      "7    Hannah  31.533333   68000        1.000000  Middle-aged   \n",
      "8      Ivan  27.000000   61000        0.524476        Young   \n",
      "9      Jack  29.000000   69000        0.734266        Young   \n",
      "10    Kelly  31.533333   63000        1.000000  Middle-aged   \n",
      "11     Liam  31.533333   77000        1.000000  Middle-aged   \n",
      "12     Mona  26.000000   53000        0.419580        Young   \n",
      "13     Nina  31.533333   66000        1.000000  Middle-aged   \n",
      "14    Oscar  31.533333   75000        1.000000  Middle-aged   \n",
      "\n",
      "    Salary_pct_change  Percentage Change  \n",
      "0                 NaN                0.0  \n",
      "1           20.000000               20.0  \n",
      "2           16.666667               40.0  \n",
      "3          -21.428571               10.0  \n",
      "4           -5.454545                4.0  \n",
      "5           53.846154               60.0  \n",
      "6          -10.000000               44.0  \n",
      "7           -5.555556               36.0  \n",
      "8          -10.294118               22.0  \n",
      "9           13.114754               38.0  \n",
      "10          -8.695652               26.0  \n",
      "11          22.222222               54.0  \n",
      "12         -31.168831                6.0  \n",
      "13          24.528302               32.0  \n",
      "14          13.636364               50.0  \n"
     ]
    }
   ],
   "source": [
    "df['Percentage Change'] = ((df['Salary'] - df['Salary'].iloc[0]) / df['Salary'].iloc[0]) * 100\n",
    "print(df)"
   ]
  },
  {
   "cell_type": "markdown",
   "metadata": {},
   "source": [
    "Cau 16"
   ]
  },
  {
   "cell_type": "code",
   "execution_count": 78,
   "metadata": {},
   "outputs": [
    {
     "name": "stdout",
     "output_type": "stream",
     "text": [
      "       Name        Age  Salary  Age_normalized    Age_group  \\\n",
      "0     Alice  25.000000   50000        0.314685        Young   \n",
      "1       Bob  30.000000   60000        0.839161  Middle-aged   \n",
      "2   Charlie  31.533333   70000        1.000000  Middle-aged   \n",
      "3     David  28.000000   55000        0.629371        Young   \n",
      "4       Eva  22.000000   52000        0.000000        Young   \n",
      "5     Frank  31.533333   80000        1.000000  Middle-aged   \n",
      "6     Grace  31.533333   72000        1.000000  Middle-aged   \n",
      "7    Hannah  31.533333   68000        1.000000  Middle-aged   \n",
      "8      Ivan  27.000000   61000        0.524476        Young   \n",
      "9      Jack  29.000000   69000        0.734266        Young   \n",
      "10    Kelly  31.533333   63000        1.000000  Middle-aged   \n",
      "11     Liam  31.533333   77000        1.000000  Middle-aged   \n",
      "12     Mona  26.000000   53000        0.419580        Young   \n",
      "13     Nina  31.533333   66000        1.000000  Middle-aged   \n",
      "14    Oscar  31.533333   75000        1.000000  Middle-aged   \n",
      "\n",
      "    Salary_pct_change  Percentage Change  \n",
      "0                 NaN                0.0  \n",
      "1           20.000000               20.0  \n",
      "2           16.666667               40.0  \n",
      "3          -21.428571               10.0  \n",
      "4           -5.454545                4.0  \n",
      "5           53.846154               60.0  \n",
      "6          -10.000000               44.0  \n",
      "7           -5.555556               36.0  \n",
      "8          -10.294118               22.0  \n",
      "9           13.114754               38.0  \n",
      "10          -8.695652               26.0  \n",
      "11          22.222222               54.0  \n",
      "12         -31.168831                6.0  \n",
      "13          24.528302               32.0  \n",
      "14          13.636364               50.0  \n"
     ]
    }
   ],
   "source": [
    "df_unique = df.drop_duplicates(subset=['Name'], keep='first')\n",
    "print(df_unique)"
   ]
  },
  {
   "cell_type": "markdown",
   "metadata": {},
   "source": [
    "Cau 17"
   ]
  }
 ],
 "metadata": {
  "kernelspec": {
   "display_name": "Python 3",
   "language": "python",
   "name": "python3"
  },
  "language_info": {
   "codemirror_mode": {
    "name": "ipython",
    "version": 3
   },
   "file_extension": ".py",
   "mimetype": "text/x-python",
   "name": "python",
   "nbconvert_exporter": "python",
   "pygments_lexer": "ipython3",
   "version": "3.11.9"
  }
 },
 "nbformat": 4,
 "nbformat_minor": 2
}
